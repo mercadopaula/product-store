{
 "cells": [
  {
   "cell_type": "code",
   "execution_count": 1,
   "id": "414fcb0b-407c-466a-9c23-0699ffa55b3d",
   "metadata": {},
   "outputs": [],
   "source": [
    "%%capture --no-stderr\n",
    "%pip install --quiet -U langgraph lxml chromadb langchain-chroma"
   ]
  },
  {
   "cell_type": "code",
   "execution_count": 2,
   "id": "58f466f4-1b3d-4dcf-8f83-2bc559cacf21",
   "metadata": {},
   "outputs": [],
   "source": [
    "#Fix notebook asyncio bug\n",
    "import nest_asyncio\n",
    "nest_asyncio.apply()"
   ]
  },
  {
   "cell_type": "code",
   "execution_count": 3,
   "id": "8ddc1318-3fce-4536-9c98-bee527f7deb9",
   "metadata": {},
   "outputs": [],
   "source": [
    "import os\n",
    "\n",
    "os.environ[\"USER_AGENT\"] = \"Mozilla/5.0 (Windows NT 10.0; Win64; x64) AppleWebKit/537.36 (KHTML, like Gecko) Chrome/111.0.0.0 Safari/537.36\""
   ]
  },
  {
   "cell_type": "markdown",
   "id": "49e8596f-16cc-4dd1-bc6e-c9e7ec21369a",
   "metadata": {},
   "source": [
    "## Website scraper"
   ]
  },
  {
   "cell_type": "code",
   "execution_count": 4,
   "id": "00881b85-a455-4d02-b15e-c36baea56853",
   "metadata": {},
   "outputs": [],
   "source": [
    "from langchain_community.document_loaders.sitemap import SitemapLoader\n",
    "from bs4 import BeautifulSoup\n",
    "import re\n",
    "\n",
    "products_the_row_us = []\n",
    "\n",
    "class Product:\n",
    "    def __init__(self, title, image, price_amount_regular, price_currency_regular, description, gender):\n",
    "        self.title = title\n",
    "        self.image = image\n",
    "        self.price_amount_regular = price_amount_regular\n",
    "        self.price_currency_regular = price_currency_regular\n",
    "        self.description = description\n",
    "        self.gender = gender\n",
    "\n",
    "    def as_string(self):\n",
    "        return getattr(self, \"title\", \"null\") + \"|\" + getattr(self, \"price_currency_regular\", \"null\") + \" \" + getattr(self, \"price_amount_regular\", \"null\") + \"|\" + getattr(self, \"description\", \"null\") + \"|\" + getattr(self, \"gender\", \"null\")+ \"|\" + getattr(self, \"image\", \"null\")\n",
    "\n",
    "def get_gender(value: BeautifulSoup) -> str:\n",
    "    if \"women\" in (value[\"data-tags\"].lower()):\n",
    "        result_gender = \"women\"\n",
    "    elif \"men\" in (value[\"data-tags\"].lower()):\n",
    "        result_gender = \"men\"\n",
    "    else:\n",
    "        result_gender = \"neutral\"\n",
    "    return result_gender\n",
    "\n",
    "def sanitize_html(value: BeautifulSoup) -> str:\n",
    "    if value is None:\n",
    "        return \"null\"\n",
    "    if isinstance (value, str):\n",
    "        return value.strip().replace(\"|\", \" \").replace(\"\\u00A0\", \" \").replace(\"\\n\", \" \").replace(\"\\r\", \" \")\n",
    "    return value.get_text().strip().replace(\"|\", \" \").replace(\"\\u00A0\", \" \").replace(\"\\n\", \" \").replace(\"\\r\", \" \")\n",
    "\n",
    "def get_content_from_property(property: BeautifulSoup) -> str:\n",
    "    return property.attrs['content']\n",
    "    \n",
    "def the_row_product_parser_us(content: BeautifulSoup) -> str:\n",
    "    result_title = content.find(\"meta\", property=\"og:title\")\n",
    "    result_image = content.find(\"meta\", property=\"og:image\")\n",
    "    result_price_amount_regular = content.find(\"meta\", property=\"product:price:amount\")\n",
    "    result_price_currency_regular = content.find(\"meta\", property=\"product:price:currency\")\n",
    "    result_description = content.find(\"meta\", property=\"og:description\")\n",
    "    result_gender_decider = content.find(\"div\", attrs = {\"data-app\": \"eastsideco_sizeGuides\"})\n",
    "    result_gender = get_gender(result_gender_decider)\n",
    "    product = Product(title = get_content_from_property(result_title), \n",
    "                      image = get_content_from_property(result_image), \n",
    "                      price_amount_regular = get_content_from_property(result_price_amount_regular), \n",
    "                      price_currency_regular = get_content_from_property(result_price_currency_regular), \n",
    "                      description = get_content_from_property(result_description),  \n",
    "                      gender = sanitize_html(result_gender))\n",
    "    products_the_row_us.append(product)\n",
    "    return product.as_string()\n",
    "\n",
    "# Regex pattern\n",
    "pattern = r\"^https:\\/\\/www\\.therow\\.com\\/products\\/.*\"\n",
    "\n",
    "\n",
    "the_row_sitemap_loader_us = SitemapLoader(\n",
    "    web_path=\"https://www.therow.com/sitemap_products_1.xml?from=6958080032873&to=14625140081012\",\n",
    "    filter_urls=[pattern],\n",
    "    parsing_function=the_row_product_parser_us\n",
    ")"
   ]
  },
  {
   "cell_type": "markdown",
   "id": "5dbfe940-2178-485c-8dd1-c65963673b48",
   "metadata": {},
   "source": [
    "## Scrape the website -- The Row US"
   ]
  },
  {
   "cell_type": "code",
   "execution_count": 5,
   "id": "eb90ced7-a44f-463a-ae03-306b43961bff",
   "metadata": {},
   "outputs": [
    {
     "name": "stderr",
     "output_type": "stream",
     "text": [
      "\n",
      "etching pages: 100%|#########################| 848/848 [04:06<00:00,  3.44it/s]"
     ]
    }
   ],
   "source": [
    "documents_the_row_us = the_row_sitemap_loader_us.load()"
   ]
  },
  {
   "cell_type": "code",
   "execution_count": 6,
   "id": "66414c32-d123-4912-a5a3-1dc491c76bd0",
   "metadata": {},
   "outputs": [
    {
     "name": "stdout",
     "output_type": "stream",
     "text": [
      "page_content='Luke T-Shirt Black in Cotton – The Row|EUR 380,00|Short sleeve t-shirt in soft, fluid Supima cotton jersey with ribbed neckline. 100% Cotton Made in Italy Style: 120K291BLK|men|http://www.therow.com/cdn/shop/products/120K291BLKF.jpg?v=1665786846' metadata={'source': 'https://www.therow.com/products/luke-t-shirt-black', 'loc': 'https://www.therow.com/products/luke-t-shirt-black', 'lastmod': '2025-02-19T10:34:34-05:00', 'changefreq': 'daily'}\n",
      "Luke T-Shirt Black in Cotton – The Row|EUR 380,00|Short sleeve t-shirt in soft, fluid Supima cotton jersey with ribbed neckline. 100% Cotton Made in Italy Style: 120K291BLK|men|http://www.therow.com/cdn/shop/products/120K291BLKF.jpg?v=1665786846\n"
     ]
    }
   ],
   "source": [
    "print(documents_the_row_us[0])\n",
    "print(products_the_row_us[0].as_string())"
   ]
  },
  {
   "cell_type": "markdown",
   "id": "14f965eb-9eb7-4a82-8ebe-00844f27971d",
   "metadata": {},
   "source": [
    "## Storage setup"
   ]
  },
  {
   "cell_type": "markdown",
   "id": "45082263-f5be-49b6-9463-65fc7d075434",
   "metadata": {},
   "source": [
    "## Create the .csv file"
   ]
  },
  {
   "cell_type": "code",
   "execution_count": 7,
   "id": "6d31e5e4-7199-48c8-8f86-9acf60965b80",
   "metadata": {},
   "outputs": [],
   "source": [
    "with open('products_the_row_us.csv', \"a+\") as f:\n",
    "    data = f.read()\n",
    "\n",
    "with open('products_the_row_us.csv', 'w') as f:\n",
    "    for i, p in enumerate(products_the_row_us):\n",
    "        f.write(str(i) +\"|\" + p.as_string() + \"\\n\")"
   ]
  },
  {
   "cell_type": "markdown",
   "id": "ae5f35e6-c0d6-4f04-8f49-e2e3ab514806",
   "metadata": {},
   "source": [
    "## Create the embeddings database with ChromaDB"
   ]
  },
  {
   "cell_type": "markdown",
   "id": "9bf2a7ee-142b-4378-a9bb-41b1c98e6e4b",
   "metadata": {},
   "source": [
    "source: https://python.langchain.com/docs/integrations/vectorstores/chroma/"
   ]
  },
  {
   "cell_type": "code",
   "execution_count": 8,
   "id": "ee0134fe-5086-4e87-a5fc-aa0851444082",
   "metadata": {},
   "outputs": [],
   "source": [
    "from langchain_chroma import Chroma\n",
    "from langchain_ollama import OllamaEmbeddings\n",
    "import chromadb\n",
    "\n",
    "# Custom class to fix the signature mismatch for the embeddings function\n",
    "class CustomOllamaEmbeddings(OllamaEmbeddings):\n",
    "\n",
    "    def __init__(self, model, *args, **kwargs):\n",
    "        super().__init__(model=model, *args, **kwargs)\n",
    "        \n",
    "    def _embed_documents(self, texts):\n",
    "        return super().embed_documents(texts)  # <--- use OllamaEmbeddings's embedding function\n",
    "\n",
    "    def __call__(self, input):\n",
    "        return self._embed_documents(input)    # <--- get the embeddings\n",
    "\n",
    "embeddings = CustomOllamaEmbeddings(model=\"mxbai-embed-large\")\n",
    "\n",
    "collection_name = \"the-row-products\"\n",
    "\n",
    "persistent_client = chromadb.PersistentClient(path=\"./chroma_products_the_row_us\")\n",
    "\n",
    "vector_store_from_client = Chroma(\n",
    "    client=persistent_client,\n",
    "    collection_name=collection_name,\n",
    "    embedding_function=embeddings\n",
    ")\n",
    "\n",
    "collection = persistent_client.get_collection(name=collection_name, embedding_function=embeddings)\n",
    "\n",
    "retriever = vector_store_from_client.as_retriever()"
   ]
  },
  {
   "cell_type": "markdown",
   "id": "1b40ee4b-2029-4f1f-ab8c-23fb969612d4",
   "metadata": {},
   "source": [
    "## Enriching documents' metadata"
   ]
  },
  {
   "cell_type": "code",
   "execution_count": 9,
   "id": "139304ac-0e5b-4984-bdef-3c93cd497294",
   "metadata": {},
   "outputs": [],
   "source": [
    "# Setting the locale to handle US price numbers with comma separators, e.g. 1.900,00\n",
    "import locale\n",
    "locale.setlocale(locale.LC_ALL, 'de_DE')\n",
    "\n",
    "for i, d in enumerate(documents_the_row_us):\n",
    "    d.metadata[\"title\"] = products_the_row_us[i].title\n",
    "    d.metadata[\"image\"] = products_the_row_us[i].image\n",
    "    d.metadata[\"price_amount_regular\"] = float(locale.atof(products_the_row_us[i].price_amount_regular.replace('.','')))\n",
    "    d.metadata[\"price_currency_regular\"] = products_the_row_us[i].price_currency_regular\n",
    "    d.metadata[\"gender\"] = products_the_row_us[i].gender"
   ]
  },
  {
   "cell_type": "markdown",
   "id": "51e20c9c-cfac-4fc6-bc73-7c4b58730a3d",
   "metadata": {},
   "source": [
    "### Add products to the vector store"
   ]
  },
  {
   "cell_type": "code",
   "execution_count": 10,
   "id": "66fcccfd-1edb-4a4f-81f5-b9953e3a4761",
   "metadata": {},
   "outputs": [],
   "source": [
    "from uuid import uuid4\n",
    "\n",
    "uuids = [str(uuid4()) for _ in range(len(documents_the_row_us))];\n",
    "\n",
    "vector_store_from_client.add_documents(ids=uuids, documents=documents_the_row_us);"
   ]
  },
  {
   "cell_type": "code",
   "execution_count": 11,
   "id": "3b5fe269-289d-4807-97ab-47c76e791dbf",
   "metadata": {},
   "outputs": [
    {
     "name": "stdout",
     "output_type": "stream",
     "text": [
      "[Document(id='db724b00-552f-49dd-97b0-060740f6e7ee', metadata={'changefreq': 'daily', 'gender': 'men', 'image': 'http://www.therow.com/cdn/shop/files/279W1842BLKF.jpg?v=1682604735', 'lastmod': '2025-01-14T08:24:06-05:00', 'loc': 'https://www.therow.com/products/elijah-pants-black', 'price_amount_regular': 1410.0, 'price_currency_regular': 'EUR', 'source': 'https://www.therow.com/products/elijah-pants-black', 'title': 'Elijah Pants Black in Wool – The Row'}, page_content='Elijah Pants Black in Wool – The Row|EUR 1.410,00|Mid-rise straight leg pant in soft wool gabardine with tailored waistband construction and side slash pockets. 100% Wool Lined in 100% Cotton Made in USA Style: 279W1842BLK|men|http://www.therow.com/cdn/shop/files/279W1842BLKF.jpg?v=1682604735'), Document(id='3a693ee0-156e-4066-902d-1edf86c6a4b4', metadata={'changefreq': 'daily', 'gender': 'men', 'image': 'http://www.therow.com/cdn/shop/files/279W1842BLKF.jpg?v=1682604735', 'lastmod': '2025-02-19T10:34:34-05:00', 'loc': 'https://www.therow.com/products/elijah-pants-black', 'price_amount_regular': 1410.0, 'price_currency_regular': 'EUR', 'source': 'https://www.therow.com/products/elijah-pants-black', 'title': 'Elijah Pants Black in Wool – The Row'}, page_content='Elijah Pants Black in Wool – The Row|EUR 1.410,00|Mid-rise straight leg pant in soft wool gabardine with tailored waistband construction and side slash pockets. 100% Wool Lined in 100% Cotton Made in USA Style: 279W1842BLK|men|http://www.therow.com/cdn/shop/files/279W1842BLKF.jpg?v=1682604735'), Document(id='ed061f06-46e5-42a3-8cbe-51bca7d094e0', metadata={'changefreq': 'daily', 'gender': 'women', 'image': 'http://www.therow.com/cdn/shop/files/8302W3177BLKF.jpg?v=1719953809', 'lastmod': '2025-01-14T08:24:06-05:00', 'loc': 'https://www.therow.com/products/jago-pant-black', 'price_amount_regular': 1900.0, 'price_currency_regular': 'EUR', 'source': 'https://www.therow.com/products/jago-pant-black', 'title': 'Jago Pant Black in Wool – The Row'}, page_content='Jago Pant Black in Wool – The Row|EUR 1.900,00|High-waisted, ankle-length pant in double-faced worsted wool with pressed front and back creases, slight flare at hem, and side zip closure. 100% Wool Made in Italy Style: 8302W3177BLK|women|http://www.therow.com/cdn/shop/files/8302W3177BLKF.jpg?v=1719953809'), Document(id='21d17f9c-7535-4751-900e-89d7e29713a6', metadata={'changefreq': 'daily', 'gender': 'women', 'image': 'http://www.therow.com/cdn/shop/files/8302W3177BLKF.jpg?v=1738442488', 'lastmod': '2025-02-19T10:34:34-05:00', 'loc': 'https://www.therow.com/products/jago-pant-black', 'price_amount_regular': 1900.0, 'price_currency_regular': 'EUR', 'source': 'https://www.therow.com/products/jago-pant-black', 'title': 'Jago Pant Black in Wool – The Row'}, page_content='Jago Pant Black in Wool – The Row|EUR 1.900,00|High-waisted, ankle-length pant in double-faced worsted wool with pressed front and back creases, slight flare at hem, and side zip closure. 100% Wool Made in Italy Style: 8302W3177BLK|women|http://www.therow.com/cdn/shop/files/8302W3177BLKF.jpg?v=1738442488')]\n"
     ]
    }
   ],
   "source": [
    "retriever_output = retriever.invoke(\"pants black wool\")\n",
    "print(retriever_output)"
   ]
  },
  {
   "cell_type": "code",
   "execution_count": 12,
   "id": "8f1fe425-6166-43c1-9198-964812f27088",
   "metadata": {},
   "outputs": [
    {
     "data": {
      "text/plain": [
       "{'ids': [['ff90eb8f-d46d-4adc-8a2e-61803a2c3be8',\n",
       "   'bb5c006b-e113-4647-9c45-ec1267900ca0']],\n",
       " 'embeddings': None,\n",
       " 'documents': [['Rolf Pant Black in Cotton – The Row|EUR 920,00|Cropped, slim-fit trouser in soft brushed cotton with front double pleats, pressed front and back creases, and double welt pockets at back. 100% Cotton Made in Italy Style: 754W3241BLK|men|http://www.therow.com/cdn/shop/files/754W3241BLKF.jpg?v=1738442282',\n",
       "   'Rolf Pant Black in Cotton – The Row|EUR 920,00|Cropped, slim-fit trouser in soft brushed cotton with front double pleats, pressed front and back creases, and double welt pockets at back. 100% Cotton Made in Italy Style: 754W3241BLK|men|http://www.therow.com/cdn/shop/files/754W3241BLKF.jpg?v=1720020243']],\n",
       " 'uris': None,\n",
       " 'data': None,\n",
       " 'metadatas': [[{'changefreq': 'daily',\n",
       "    'gender': 'men',\n",
       "    'image': 'http://www.therow.com/cdn/shop/files/754W3241BLKF.jpg?v=1738442282',\n",
       "    'lastmod': '2025-02-19T10:34:34-05:00',\n",
       "    'loc': 'https://www.therow.com/products/rolf-pant-black',\n",
       "    'price_amount_regular': 920.0,\n",
       "    'price_currency_regular': 'EUR',\n",
       "    'source': 'https://www.therow.com/products/rolf-pant-black',\n",
       "    'title': 'Rolf Pant Black in Cotton – The Row'},\n",
       "   {'changefreq': 'daily',\n",
       "    'gender': 'men',\n",
       "    'image': 'http://www.therow.com/cdn/shop/files/754W3241BLKF.jpg?v=1720020243',\n",
       "    'lastmod': '2025-01-14T08:24:06-05:00',\n",
       "    'loc': 'https://www.therow.com/products/rolf-pant-black',\n",
       "    'price_amount_regular': 920.0,\n",
       "    'price_currency_regular': 'EUR',\n",
       "    'source': 'https://www.therow.com/products/rolf-pant-black',\n",
       "    'title': 'Rolf Pant Black in Cotton – The Row'}]],\n",
       " 'distances': [[0.5563444495201111, 0.5565643310546875]],\n",
       " 'included': [<IncludeEnum.distances: 'distances'>,\n",
       "  <IncludeEnum.documents: 'documents'>,\n",
       "  <IncludeEnum.metadatas: 'metadatas'>]}"
      ]
     },
     "execution_count": 12,
     "metadata": {},
     "output_type": "execute_result"
    }
   ],
   "source": [
    "# Query using metadata filter\n",
    "\n",
    "collection.query(\n",
    "    query_texts=[\"slim fit black wool trouser\"],\n",
    "    n_results=2,\n",
    "    where={\"$and\":[{\"gender\": \"men\"},{\"price_amount_regular\": {\"$lt\":1300}}]}\n",
    ")"
   ]
  },
  {
   "cell_type": "code",
   "execution_count": null,
   "id": "2a784157-3590-49a3-9830-a3e1c3a0ed87",
   "metadata": {},
   "outputs": [],
   "source": []
  }
 ],
 "metadata": {
  "kernelspec": {
   "display_name": "Python 3 (ipykernel)",
   "language": "python",
   "name": "python3"
  },
  "language_info": {
   "codemirror_mode": {
    "name": "ipython",
    "version": 3
   },
   "file_extension": ".py",
   "mimetype": "text/x-python",
   "name": "python",
   "nbconvert_exporter": "python",
   "pygments_lexer": "ipython3",
   "version": "3.12.6"
  }
 },
 "nbformat": 4,
 "nbformat_minor": 5
}
